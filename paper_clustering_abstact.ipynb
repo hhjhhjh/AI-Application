{
 "cells": [
  {
   "cell_type": "markdown",
   "id": "6f16364e",
   "metadata": {},
   "source": [
    "# 논문 유사도 기반 군집화 (Abstract 임베딩 ver.)\n",
    "\n",
    "**다운로드 폴더(Downloads)**의 PDF들을 대상으로, **초록(Abstract)만 발췌**해 임베딩하고 K-Means로 군집화합니다.\n",
    "\n",
    "- 텍스트 추출: `pypdf`\n",
    "- 임베딩: `sentence-transformers`\n",
    "- 군집화: `scikit-learn` KMeans + 실루엣 점수\n",
    "- 시각화: PCA 또는 t-SNE (2D)\n"
   ]
  },
  {
   "cell_type": "markdown",
   "id": "a8559096",
   "metadata": {},
   "source": [
    "### 1) 설치"
   ]
  },
  {
   "cell_type": "code",
   "execution_count": 2,
   "id": "bcc2dafd",
   "metadata": {},
   "outputs": [
    {
     "name": "stdout",
     "output_type": "stream",
     "text": [
      "[캐시 설정 완료] HF_HOME = /Users/hwangjeonghyun/AI-Application-Practice/.hf_cache\n"
     ]
    }
   ],
   "source": [
    "# === HF 캐시를 현재 폴더 하위로 강제 (권한 문제 회피) ===\n",
    "import os\n",
    "from pathlib import Path\n",
    "\n",
    "LOCAL_CACHE = Path.cwd() / \".hf_cache\"\n",
    "LOCAL_CACHE.mkdir(parents=True, exist_ok=True)\n",
    "\n",
    "os.environ[\"HF_HOME\"] = str(LOCAL_CACHE)\n",
    "os.environ[\"HUGGINGFACE_HUB_CACHE\"] = str(LOCAL_CACHE)\n",
    "os.environ[\"TRANSFORMERS_CACHE\"] = str(LOCAL_CACHE)\n",
    "os.environ[\"SENTENCE_TRANSFORMERS_HOME\"] = str(LOCAL_CACHE)\n",
    "\n",
    "print(\"[캐시 설정 완료] HF_HOME =\", os.environ[\"HF_HOME\"])\n"
   ]
  },
  {
   "cell_type": "code",
   "execution_count": 3,
   "id": "1b1e83e2",
   "metadata": {},
   "outputs": [
    {
     "name": "stderr",
     "output_type": "stream",
     "text": [
      "/Users/hwangjeonghyun/AI-Application-Practice/.venv/lib/python3.13/site-packages/tqdm/auto.py:21: TqdmWarning: IProgress not found. Please update jupyter and ipywidgets. See https://ipywidgets.readthedocs.io/en/stable/user_install.html\n",
      "  from .autonotebook import tqdm as notebook_tqdm\n",
      "/Users/hwangjeonghyun/AI-Application-Practice/.venv/lib/python3.13/site-packages/transformers/utils/hub.py:111: FutureWarning: Using `TRANSFORMERS_CACHE` is deprecated and will be removed in v5 of Transformers. Use `HF_HOME` instead.\n",
      "  warnings.warn(\n"
     ]
    }
   ],
   "source": [
    "# === 폴백 포함 임베딩 로더 ===\n",
    "from sentence_transformers import SentenceTransformer\n",
    "import numpy as np\n",
    "\n",
    "# 필요시 기본 모델을 바꾸고 싶으면 여기서 변경하세요.\n",
    "# (권장) 다국어 품질↑: paraphrase-multilingual-mpnet-base-v2\n",
    "# (경량/영문 위주): all-MiniLM-L6-v2\n",
    "FALLBACK_MODELS = [\n",
    "    \"sentence-transformers/paraphrase-multilingual-mpnet-base-v2\",\n",
    "    \"sentence-transformers/paraphrase-multilingual-MiniLM-L12-v2\",\n",
    "    \"sentence-transformers/all-MiniLM-L6-v2\",\n",
    "]\n",
    "\n",
    "# 기존 MODEL_NAME 변수를 우선 시도하고, 실패하면 위 목록 순서대로 시도\n",
    "_cached_model = None\n",
    "def _load_sentence_transformer(primary: str):\n",
    "    global _cached_model\n",
    "    if _cached_model is not None:\n",
    "        return _cached_model\n",
    "    candidates = [primary] + [m for m in FALLBACK_MODELS if m != primary]\n",
    "    last_err = None\n",
    "    for m in candidates:\n",
    "        try:\n",
    "            print(f\"[임베딩 모델 시도] {m}\")\n",
    "            _cached_model = SentenceTransformer(m)\n",
    "            print(f\"[사용 모델] {m}\")\n",
    "            return _cached_model\n",
    "        except Exception as e:\n",
    "            print(f\"  -> 실패: {type(e).__name__}: {e}\")\n",
    "            last_err = e\n",
    "    raise RuntimeError(\"모든 임베딩 모델 로드에 실패했습니다.\") from last_err\n",
    "\n",
    "def embed_texts(texts, model_name: str):\n",
    "    model = _load_sentence_transformer(model_name)\n",
    "    return model.encode(texts, show_progress_bar=True, convert_to_numpy=True, normalize_embeddings=True)\n"
   ]
  },
  {
   "cell_type": "code",
   "execution_count": 4,
   "id": "8149d20a",
   "metadata": {},
   "outputs": [],
   "source": [
    "# 최초 1회만 설치\n",
    "! pip install -q pypdf sentence-transformers scikit-learn matplotlib tqdm\n"
   ]
  },
  {
   "cell_type": "markdown",
   "id": "e3250bcd",
   "metadata": {},
   "source": [
    "### 2) 설정"
   ]
  },
  {
   "cell_type": "code",
   "execution_count": 5,
   "id": "1097dbdc",
   "metadata": {},
   "outputs": [],
   "source": [
    "from pathlib import Path\n",
    "\n",
    "# === 필수 ===\n",
    "PDF_DIR = Path('/Users/hwangjeonghyun/Downloads/papers')   # ✅ 기본: 사용자의 Downloads 폴더\n",
    "# 필요 시, 예: PDF_DIR = Path('/Users/내이름/Downloads/논문폴더')\n",
    "PDF_DIR.mkdir(parents=True, exist_ok=True)\n",
    "\n",
    "# === 선택 ===\n",
    "K = 3                        # 고정 k\n",
    "AUTO_K_RANGE = None          # 예: (2, 10) -> 실루엣 최대 k 자동 선택\n",
    "MODEL_NAME = 'sentence-transformers/paraphrase-multilingual-MiniLM-L12-v2'\n",
    "VIZ_METHOD = 'pca'           # '', 'pca', 'tsne'\n",
    "MAX_PAGES = None             # 문서당 읽을 최대 페이지 수\n",
    "RANDOM_STATE = 42\n",
    "\n",
    "OUT_CSV = Path('cluster_results.csv')\n",
    "OUT_PNG = Path('clusters_2d.png')\n"
   ]
  },
  {
   "cell_type": "markdown",
   "id": "bc9186f7",
   "metadata": {},
   "source": [
    "### 3) 유틸 함수 (PDF 추출 & Abstract 발췌)"
   ]
  },
  {
   "cell_type": "code",
   "execution_count": 6,
   "id": "dc826a8c",
   "metadata": {},
   "outputs": [],
   "source": [
    "import re\n",
    "from typing import List, Optional\n",
    "from pypdf import PdfReader\n",
    "\n",
    "def clean_text(s: str) -> str:\n",
    "    s = s.replace('\\x00', ' ')\n",
    "    s = re.sub(r'[ \\t]+', ' ', s)\n",
    "    s = re.sub(r'\\n{2,}', '\\n', s)\n",
    "    return s.strip()\n",
    "\n",
    "def read_pdf_text(pdf_path: Path, max_pages: Optional[int] = None) -> str:\n",
    "    reader = PdfReader(str(pdf_path))\n",
    "    pages = reader.pages[:max_pages] if max_pages else reader.pages\n",
    "    texts = []\n",
    "    for p in pages:\n",
    "        try:\n",
    "            t = p.extract_text() or ''\n",
    "        except Exception:\n",
    "            t = ''\n",
    "        texts.append(t)\n",
    "    return clean_text('\\n'.join(texts))\n",
    "\n",
    "def guess_title(text: str) -> str:\n",
    "    if not text:\n",
    "        return ''\n",
    "    lines = [l.strip() for l in text.splitlines() if l.strip()]\n",
    "    if not lines:\n",
    "        return ''\n",
    "    for l in lines[:25]:\n",
    "        if len(l) > 15 and (l == l.upper() or re.search(r'[A-Z][a-z].+', l)):\n",
    "            return l\n",
    "    return lines[0]\n",
    "\n",
    "def extract_abstract(full_text: str) -> str:\n",
    "    \"\"\"Abstract 섹션만 발췌. 실패 시 첫 페이지 상단 텍스트 일부 사용.\"\"\"\n",
    "    if not full_text:\n",
    "        return ''\n",
    "    text = full_text\n",
    "    abstract_heads = [\n",
    "        r'\\babstract\\b', r'\\bsummary\\b', r'\\bextended abstract\\b',\n",
    "        r'\\b초록\\b', r'\\b요약\\b', r'\\b개요\\b'\n",
    "    ]\n",
    "    next_heads = [\n",
    "        r'\\bkeywords?\\b', r'\\bindex terms?\\b',\n",
    "        r'\\bintroduction\\b', r'\\b서론\\b', r'\\b배경\\b',\n",
    "        r'\\b1\\.\\s', r'\\bⅠ\\.\\s', r'\\bI\\.\\s'\n",
    "    ]\n",
    "    start_pos = None\n",
    "    for pat in abstract_heads:\n",
    "        m = re.search(pat, text, flags=re.IGNORECASE)\n",
    "        if m:\n",
    "            start_pos = m.start()\n",
    "            break\n",
    "    if start_pos is not None:\n",
    "        end_pos = None\n",
    "        for pat in next_heads:\n",
    "            m2 = re.search(pat, text[start_pos+1:], flags=re.IGNORECASE)\n",
    "            if m2:\n",
    "                end_pos = start_pos + 1 + m2.start()\n",
    "                break\n",
    "        abstract = text[start_pos:end_pos] if end_pos else text[start_pos:]\n",
    "        abstract = abstract.strip()\n",
    "        if len(abstract) >= 80:\n",
    "            return abstract\n",
    "    lines = text.splitlines()\n",
    "    first_chunk = '\\n'.join(lines[:120])\n",
    "    if len(first_chunk) < 200:\n",
    "        first_chunk = text[:2000]\n",
    "    return first_chunk.strip()\n"
   ]
  },
  {
   "cell_type": "markdown",
   "id": "e429217b",
   "metadata": {},
   "source": [
    "### 4) 임베딩 & 클러스터링 함수"
   ]
  },
  {
   "cell_type": "code",
   "execution_count": 7,
   "id": "2541be75",
   "metadata": {},
   "outputs": [],
   "source": [
    "import numpy as np\n",
    "from tqdm.auto import tqdm\n",
    "from sentence_transformers import SentenceTransformer\n",
    "from sklearn.cluster import KMeans\n",
    "from sklearn.metrics import silhouette_score\n",
    "from sklearn.decomposition import PCA\n",
    "from sklearn.manifold import TSNE\n",
    "import matplotlib.pyplot as plt\n",
    "\n",
    "def embed_texts(texts: List[str], model_name: str) -> np.ndarray:\n",
    "    model = SentenceTransformer(model_name)\n",
    "    emb = model.encode(texts, show_progress_bar=True, convert_to_numpy=True, normalize_embeddings=True)\n",
    "    return emb\n",
    "\n",
    "def run_kmeans(emb: np.ndarray, k: int, random_state: int = 42):\n",
    "    km = KMeans(n_clusters=k, n_init='auto', random_state=random_state)\n",
    "    labels = km.fit_predict(emb)\n",
    "    sil = -1.0\n",
    "    if k > 1:\n",
    "        try:\n",
    "            sil = silhouette_score(emb, labels, metric='cosine')\n",
    "        except Exception:\n",
    "            pass\n",
    "    return km, labels, sil\n",
    "\n",
    "def auto_select_k(emb: np.ndarray, k_min: int, k_max: int, random_state: int = 42):\n",
    "    scores = {}\n",
    "    best_k, best_s = None, -2.0\n",
    "    for k in range(k_min, k_max+1):\n",
    "        _, labels, sil = run_kmeans(emb, k, random_state=random_state)\n",
    "        scores[k] = sil\n",
    "        if sil > best_s:\n",
    "            best_s, best_k = sil, k\n",
    "    return best_k, best_s, scores\n",
    "\n",
    "def reduce_2d(emb: np.ndarray, method: str = 'pca', random_state: int = 42) -> np.ndarray:\n",
    "    m = method.lower()\n",
    "    if m == 'pca':\n",
    "        return PCA(n_components=2, random_state=random_state).fit_transform(emb)\n",
    "    elif m == 'tsne':\n",
    "        return TSNE(n_components=2, random_state=random_state, init='pca', perplexity=30, learning_rate='auto').fit_transform(emb)\n",
    "    else:\n",
    "        raise ValueError(\"method must be '', 'pca', or 'tsne'\")\n"
   ]
  },
  {
   "cell_type": "markdown",
   "id": "eee57c36",
   "metadata": {},
   "source": [
    "### 5) 실행: Downloads의 PDF -> 초록 임베딩 -> kmeans -> 결과 출력/저장 "
   ]
  },
  {
   "cell_type": "code",
   "execution_count": 9,
   "id": "88a323a9",
   "metadata": {},
   "outputs": [
    {
     "name": "stdout",
     "output_type": "stream",
     "text": [
      "[정보] PDF 개수: 10\n",
      "[정보] 임베딩 모델: sentence-transformers/paraphrase-multilingual-MiniLM-L12-v2\n",
      "[단계] PDF 텍스트 추출 및 Abstract 발췌 중...\n",
      "[단계] 임베딩 생성(SBERT, Abstract 전용)...\n"
     ]
    },
    {
     "name": "stderr",
     "output_type": "stream",
     "text": [
      "Batches: 100%|██████████| 1/1 [00:00<00:00,  4.91it/s]\n",
      "huggingface/tokenizers: The current process just got forked, after parallelism has already been used. Disabling parallelism to avoid deadlocks...\n",
      "To disable this warning, you can either:\n",
      "\t- Avoid using `tokenizers` before the fork if possible\n",
      "\t- Explicitly set the environment variable TOKENIZERS_PARALLELISM=(true | false)\n"
     ]
    },
    {
     "name": "stdout",
     "output_type": "stream",
     "text": [
      "[설정] 고정 k=3\n",
      "[단계] K-Means 클러스터링...\n",
      "[지표] 실루엣 점수(코사인): 0.1921\n",
      "\n",
      "======================================================================\n",
      "[클러스터 0] 문서 수: 3\n",
      "  - (01) 바이오헬스산업에있어블록체인기술을활용한빅데이터의수집․활용및지식재산권보호를위한법적연구*손정은**1) ≪차례≫Ⅰ.서론Ⅱ.바이오헬스산업과빅데이터의법적특성Ⅲ.블록체인기술의바이오빅데이터활용가능성Ⅳ.국가통합바이오빅데이터구축사업의법적․윤리적쟁점과블록체인연계방안Ⅴ.비교법적검토Ⅵ.제도개선을위한입법적․정책적방안Ⅶ.결론  |  파일: 바이오헬스산업에 있어 블록체인기술을 활용한 빅데이터의 수집 · 활용 및 지식재산권 보호를 .pdf\n",
      "  - (02) 한국컴퓨터정보학회 하계학술대회 논문집 제33권 제2호 (2025. 7)  |  파일: 블록체인 기반 다변량 데이터의 효과적 관리를 위한 PCA 적용 연구.pdf\n",
      "  - (03) 무역통상학회지 제25권 제04호 2025. 08 121  |  파일: 블록체인기술과 공급사슬 성과에 관한 연구 지속가능성을 중심으로.pdf\n",
      "----------------------------------------------------------------------\n",
      "[클러스터 1] 문서 수: 4\n",
      "  - (01) 진현석1 ･ 정아람2 ･ 오철3*  |  파일: 고속도로 자율주행 도입에 따른 잠재적 교통안전 개선 효과 분석에 관한 연구.pdf\n",
      "  - (02) 자율주행 기술의 문제 식별 및 해결을 위한  |  파일: 자율주행 기술의 문제 식별 및 해결을 위한 이종 산업 융합 가능성 탐색 방법론.pdf\n",
      "  - (03) Journal of The Institute of Electronics and Information Engineers Vol.62, NO.8, August 2025 https://doi.org/10.5573/ieie.2025.62.8.126  |  파일: 자율주행 데이터 구축 현황.pdf\n",
      "  - (04) 철도 열차 제어의 도로 자율주행 적용 방안 및 선행 차량 추종 모델에 대한 효율성 개선 효  |  파일: 철도 열차 제어의 도로 자율주행 적용 방안 및 선행 차량 추종 모델에 대한 효율성 개선 효.pdf\n",
      "----------------------------------------------------------------------\n",
      "[클러스터 2] 문서 수: 3\n",
      "  - (01) 철학 제164집 2025년 8월  |  파일: 20세기 중국의 ‘중국철학’과 일본의 ‘지나철학’.pdf\n",
      "  - (02) 第175輯, 2025. 8스피노자철학에서정서의생성과본성에관한연구*  |  파일: 스피노자 철학에서 정서의 생성과 본성에 관한 연구.pdf\n",
      "  - (03) 의를 최고 가치로 내세우기 위해서이다.둘째는 군신공치에 바탕을 두는 유가식의 중앙집권제를 지향하고자 하는 목적의식이 있기 때문이다.주제분야 :동양철학,중국철학,유가철학주 제 어 :마왕퇴한묘백서,곽점초묘죽간,오행,성(聖),군자  |  파일: 죽백『오행』의 성(聖)과 군자론의 정치철학.pdf\n",
      "----------------------------------------------------------------------\n",
      "\n",
      "[저장] CSV: /Users/hwangjeonghyun/AI-Application-Practice/cluster_results.csv\n",
      "[단계] 2D 시각화(pca) 생성...\n"
     ]
    },
    {
     "data": {
      "image/png": "[encoded data removed]",
      "text/plain": [
       "<Figure size 800x700 with 1 Axes>"
      ]
     },
     "metadata": {},
     "output_type": "display_data"
    },
    {
     "name": "stdout",
     "output_type": "stream",
     "text": [
      "[저장] 시각화: /Users/hwangjeonghyun/AI-Application-Practice/clusters_2d.png\n"
     ]
    }
   ],
   "source": [
    "import csv\n",
    "\n",
    "pdf_files = sorted(PDF_DIR.glob('*.pdf'))\n",
    "if not pdf_files:\n",
    "    raise FileNotFoundError(f'PDF 파일이 없습니다: {PDF_DIR.resolve()}')\n",
    "\n",
    "print(f'[정보] PDF 개수: {len(pdf_files)}')\n",
    "print(f'[정보] 임베딩 모델: {MODEL_NAME}')\n",
    "\n",
    "# 1) PDF 텍스트 추출 & Abstract 발췌\n",
    "raw_texts, abstracts, titles = [], [], []\n",
    "print('[단계] PDF 텍스트 추출 및 Abstract 발췌 중...')\n",
    "for p in pdf_files:\n",
    "    txt = read_pdf_text(p, max_pages=MAX_PAGES)\n",
    "    abs_txt = extract_abstract(txt)\n",
    "    raw_texts.append(txt)\n",
    "    abstracts.append(abs_txt if abs_txt else '')\n",
    "    titles.append(guess_title(txt) or p.stem)\n",
    "\n",
    "# 2) 임베딩 (Abstract만)\n",
    "print('[단계] 임베딩 생성(SBERT, Abstract 전용)...')\n",
    "emb = embed_texts(abstracts, model_name=MODEL_NAME)\n",
    "\n",
    "# 3) k 선택\n",
    "if AUTO_K_RANGE is not None and isinstance(AUTO_K_RANGE, tuple):\n",
    "    k_min, k_max = AUTO_K_RANGE\n",
    "    print(f'[단계] k 자동 탐색: {k_min}~{k_max}')\n",
    "    best_k, best_s, scores = auto_select_k(emb, k_min, k_max, random_state=RANDOM_STATE)\n",
    "    print('[결과] k별 실루엣 점수(코사인):')\n",
    "    for k in sorted(scores.keys()):\n",
    "        print(f'  - k={k:2d}: {scores[k]:.4f}')\n",
    "    K_effective = best_k\n",
    "    print(f'[선택] 최적 k={K_effective} (실루엣={best_s:.4f})')\n",
    "else:\n",
    "    K_effective = K\n",
    "    print(f'[설정] 고정 k={K_effective}')\n",
    "\n",
    "# 4) 클러스터링\n",
    "print('[단계] K-Means 클러스터링...')\n",
    "km, labels, sil = run_kmeans(emb, k=K_effective, random_state=RANDOM_STATE)\n",
    "if K_effective > 1:\n",
    "    print(f'[지표] 실루엣 점수(코사인): {sil:.4f}')\n",
    "\n",
    "# 5) 결과 출력\n",
    "clusters = {}\n",
    "for i, lab in enumerate(labels):\n",
    "    clusters.setdefault(lab, []).append(i)\n",
    "\n",
    "print('\\n' + '='*70)\n",
    "for lab in sorted(clusters.keys()):\n",
    "    idxs = clusters[lab]\n",
    "    print(f'[클러스터 {lab}] 문서 수: {len(idxs)}')\n",
    "    for j, i in enumerate(idxs, start=1):\n",
    "        fn = pdf_files[i].name\n",
    "        title = titles[i]\n",
    "        print(f'  - ({j:02d}) {title}  |  파일: {fn}')\n",
    "    print('-'*70)\n",
    "\n",
    "# 6) CSV 저장\n",
    "with open(OUT_CSV, 'w', newline='', encoding='utf-8') as f:\n",
    "    writer = csv.writer(f)\n",
    "    writer.writerow(['filename', 'title', 'cluster'])\n",
    "    for i, p in enumerate(pdf_files):\n",
    "        writer.writerow([p.name, titles[i].replace(',', ' '), labels[i]])\n",
    "print(f'\\n[저장] CSV: {OUT_CSV.resolve()}')\n",
    "\n",
    "# 7) (옵션) 2D 시각화\n",
    "if VIZ_METHOD in ('pca', 'tsne'):\n",
    "    print(f'[단계] 2D 시각화({VIZ_METHOD}) 생성...')\n",
    "    coords2d = reduce_2d(emb, method=VIZ_METHOD, random_state=RANDOM_STATE)\n",
    "    plt.figure(figsize=(8,7))\n",
    "    for k in sorted(clusters.keys()):\n",
    "        idx = np.where(labels == k)[0]\n",
    "        plt.scatter(coords2d[idx,0], coords2d[idx,1], s=40, alpha=0.85, label=f'Cluster {k}')\n",
    "    plt.title('Paper Clusters (2D, Abstract)')\n",
    "    plt.legend()\n",
    "    plt.tight_layout()\n",
    "    plt.savefig(OUT_PNG, dpi=200)\n",
    "    plt.show()\n",
    "    print(f'[저장] 시각화: {OUT_PNG.resolve()}')\n",
    "else:\n",
    "    print(\"[정보] 시각화 생략 (VIZ_METHOD='').\")\n"
   ]
  }
 ],
 "metadata": {
  "kernelspec": {
   "display_name": ".venv",
   "language": "python",
   "name": "python3"
  },
  "language_info": {
   "codemirror_mode": {
    "name": "ipython",
    "version": 3
   },
   "file_extension": ".py",
   "mimetype": "text/x-python",
   "name": "python",
   "nbconvert_exporter": "python",
   "pygments_lexer": "ipython3",
   "version": "3.13.7"
  }
 },
 "nbformat": 4,
 "nbformat_minor": 5
}
